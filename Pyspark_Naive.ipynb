{
 "cells": [
  {
   "cell_type": "code",
   "execution_count": null,
   "id": "careful-manner",
   "metadata": {},
   "outputs": [],
   "source": [
    "import findspark\n",
    "findspark.init()\n",
    "findspark.find()\n",
    "import pyspark\n",
    "findspark.find()"
   ]
  },
  {
   "cell_type": "code",
   "execution_count": null,
   "id": "solid-religion",
   "metadata": {},
   "outputs": [],
   "source": [
    "from pyspark import SparkConf, SparkContext\n",
    "conf = (SparkConf()\n",
    "    .set(\"spark.driver.maxResultSize\", \"2g\"))\n",
    "sc = SparkContext(conf=conf)"
   ]
  },
  {
   "cell_type": "code",
   "execution_count": null,
   "id": "spoken-alpha",
   "metadata": {},
   "outputs": [],
   "source": [
    "from pyspark.sql import SparkSession\n",
    "spark = SparkSession(sc).builder.appName(\"TP_ML_Email_spam\").getOrCreate()"
   ]
  },
  {
   "cell_type": "code",
   "execution_count": null,
   "id": "catholic-discrimination",
   "metadata": {},
   "outputs": [],
   "source": [
    "spark"
   ]
  },
  {
   "cell_type": "code",
   "execution_count": null,
   "id": "supreme-blink",
   "metadata": {},
   "outputs": [],
   "source": [
    "df = spark.read.csv('emails.csv',header=True,sep=\",\",inferSchema=True)"
   ]
  },
  {
   "cell_type": "code",
   "execution_count": null,
   "id": "mysterious-involvement",
   "metadata": {},
   "outputs": [],
   "source": [
    "df.count()"
   ]
  },
  {
   "cell_type": "code",
   "execution_count": null,
   "id": "republican-pontiac",
   "metadata": {},
   "outputs": [],
   "source": [
    "df.printSchema()"
   ]
  },
  {
   "cell_type": "code",
   "execution_count": null,
   "id": "neither-language",
   "metadata": {},
   "outputs": [],
   "source": [
    "df.show(3)"
   ]
  },
  {
   "cell_type": "code",
   "execution_count": null,
   "id": "pursuant-festival",
   "metadata": {},
   "outputs": [],
   "source": [
    "df.select('spam').show()"
   ]
  },
  {
   "cell_type": "code",
   "execution_count": null,
   "id": "tracked-tuition",
   "metadata": {},
   "outputs": [],
   "source": [
    "df.filter(df['spam']==\"1\").count()"
   ]
  },
  {
   "cell_type": "code",
   "execution_count": null,
   "id": "compliant-mortality",
   "metadata": {},
   "outputs": [],
   "source": [
    "df.filter(df['spam']==\"0\").count()"
   ]
  },
  {
   "cell_type": "code",
   "execution_count": null,
   "id": "valued-feeding",
   "metadata": {},
   "outputs": [],
   "source": [
    "df2 = df.filter((df['spam']==\"1\")|(df['spam']==\"0\"))"
   ]
  },
  {
   "cell_type": "code",
   "execution_count": null,
   "id": "returning-template",
   "metadata": {},
   "outputs": [],
   "source": [
    "df2.count()"
   ]
  },
  {
   "cell_type": "code",
   "execution_count": null,
   "id": "offshore-vatican",
   "metadata": {},
   "outputs": [],
   "source": [
    "df2.groupBy('spam').count().show()"
   ]
  },
  {
   "cell_type": "code",
   "execution_count": null,
   "id": "elegant-catalog",
   "metadata": {},
   "outputs": [],
   "source": [
    "txt1 = df2.select('text').first()"
   ]
  },
  {
   "cell_type": "code",
   "execution_count": null,
   "id": "completed-italian",
   "metadata": {},
   "outputs": [],
   "source": [
    "type(txt1)"
   ]
  },
  {
   "cell_type": "code",
   "execution_count": null,
   "id": "dutch-phase",
   "metadata": {},
   "outputs": [],
   "source": [
    "from pyspark.ml.feature import Tokenizer, RegexTokenizer"
   ]
  },
  {
   "cell_type": "code",
   "execution_count": null,
   "id": "laughing-piano",
   "metadata": {},
   "outputs": [],
   "source": [
    "tokenizer = Tokenizer(inputCol=\"text\", outputCol=\"words\")"
   ]
  },
  {
   "cell_type": "code",
   "execution_count": null,
   "id": "exterior-benjamin",
   "metadata": {},
   "outputs": [],
   "source": [
    "regexTokenizer = RegexTokenizer(inputCol=\"text\", outputCol=\"words\", pattern=\"\\\\W\")"
   ]
  },
  {
   "cell_type": "code",
   "execution_count": null,
   "id": "finnish-vacation",
   "metadata": {},
   "outputs": [],
   "source": [
    "tokenized = tokenizer.transform(df2)"
   ]
  },
  {
   "cell_type": "code",
   "execution_count": null,
   "id": "solved-burke",
   "metadata": {},
   "outputs": [],
   "source": [
    "tokenized.show(2)"
   ]
  },
  {
   "cell_type": "code",
   "execution_count": null,
   "id": "present-kingdom",
   "metadata": {},
   "outputs": [],
   "source": [
    "regexTokenized = regexTokenizer.transform(df2)# alternatively, pattern=\"\\\\w+\", gaps(False)"
   ]
  },
  {
   "cell_type": "code",
   "execution_count": null,
   "id": "ancient-table",
   "metadata": {},
   "outputs": [],
   "source": [
    "regexTokenized.show(2)"
   ]
  },
  {
   "cell_type": "code",
   "execution_count": null,
   "id": "authorized-newport",
   "metadata": {},
   "outputs": [],
   "source": [
    "from pyspark.ml.feature import StopWordsRemover"
   ]
  },
  {
   "cell_type": "code",
   "execution_count": null,
   "id": "fatal-candle",
   "metadata": {},
   "outputs": [],
   "source": [
    "remover = StopWordsRemover(inputCol=\"words\", outputCol=\"filtered\")"
   ]
  },
  {
   "cell_type": "code",
   "execution_count": null,
   "id": "latin-feeling",
   "metadata": {},
   "outputs": [],
   "source": [
    "data = remover.transform(regexTokenized)"
   ]
  },
  {
   "cell_type": "code",
   "execution_count": null,
   "id": "medical-treasurer",
   "metadata": {},
   "outputs": [],
   "source": [
    "data.show(2)"
   ]
  },
  {
   "cell_type": "code",
   "execution_count": null,
   "id": "sapphire-training",
   "metadata": {},
   "outputs": [],
   "source": [
    "data.select('words').first()"
   ]
  },
  {
   "cell_type": "code",
   "execution_count": null,
   "id": "fitting-netscape",
   "metadata": {},
   "outputs": [],
   "source": [
    "data.select('filtered').first()"
   ]
  },
  {
   "cell_type": "code",
   "execution_count": null,
   "id": "racial-resolution",
   "metadata": {},
   "outputs": [],
   "source": [
    "def mots(txt):\n",
    "    return [w for w in txt if ((len(w) > 2) & (w != 'subject'))  ]"
   ]
  },
  {
   "cell_type": "code",
   "execution_count": null,
   "id": "lightweight-listing",
   "metadata": {},
   "outputs": [],
   "source": [
    "str = [\"subject\",\"sam\",\"de\",\"fat\",\"*\",\"--\"]\n",
    "print(mots(str))"
   ]
  },
  {
   "cell_type": "code",
   "execution_count": null,
   "id": "inclusive-switch",
   "metadata": {},
   "outputs": [],
   "source": [
    "from pyspark.sql.functions import udf\n",
    "from pyspark.sql.types import ArrayType, StringType\n",
    "mots = udf(mots,ArrayType(StringType()))"
   ]
  },
  {
   "cell_type": "code",
   "execution_count": null,
   "id": "signed-atlanta",
   "metadata": {},
   "outputs": [],
   "source": [
    "toNum = lambda str:int(str)"
   ]
  },
  {
   "cell_type": "code",
   "execution_count": null,
   "id": "metallic-warrant",
   "metadata": {},
   "outputs": [],
   "source": [
    "toNum('3')+2"
   ]
  },
  {
   "cell_type": "code",
   "execution_count": null,
   "id": "sweet-words",
   "metadata": {},
   "outputs": [],
   "source": [
    "toNum = udf(toNum,'int')"
   ]
  },
  {
   "cell_type": "code",
   "execution_count": null,
   "id": "fitting-patch",
   "metadata": {},
   "outputs": [],
   "source": [
    "data2 = data.withColumn('motsPur', mots(data[\"filtered\"]))"
   ]
  },
  {
   "cell_type": "code",
   "execution_count": null,
   "id": "rising-rhythm",
   "metadata": {},
   "outputs": [],
   "source": [
    "data2 = data2.withColumn('label', toNum(data[\"spam\"]))"
   ]
  },
  {
   "cell_type": "code",
   "execution_count": null,
   "id": "occupied-belarus",
   "metadata": {},
   "outputs": [],
   "source": [
    "data2.select('motsPur').first()"
   ]
  },
  {
   "cell_type": "code",
   "execution_count": null,
   "id": "hearing-appeal",
   "metadata": {},
   "outputs": [],
   "source": [
    "data2.select('label').show(5)"
   ]
  },
  {
   "cell_type": "code",
   "execution_count": null,
   "id": "banner-sydney",
   "metadata": {},
   "outputs": [],
   "source": [
    "from pyspark.ml.feature import CountVectorizer"
   ]
  },
  {
   "cell_type": "code",
   "execution_count": null,
   "id": "electric-final",
   "metadata": {},
   "outputs": [],
   "source": [
    "# fit a CountVectorizerModel from the corpus.\n",
    "cv = CountVectorizer(inputCol=\"motsPur\", outputCol=\"features\")\n",
    "data3 = cv.fit(data2).transform(data2)"
   ]
  },
  {
   "cell_type": "code",
   "execution_count": null,
   "id": "adapted-local",
   "metadata": {},
   "outputs": [],
   "source": [
    "#data3.select('features').first()"
   ]
  },
  {
   "cell_type": "code",
   "execution_count": null,
   "id": "temporal-cooking",
   "metadata": {},
   "outputs": [],
   "source": [
    "v = Row("
   ]
  },
  {
   "cell_type": "code",
   "execution_count": null,
   "id": "young-starter",
   "metadata": {},
   "outputs": [],
   "source": [
    "train, test = data3.select('features','label').randomSplit([0.7,0.3],seed=100)"
   ]
  },
  {
   "cell_type": "code",
   "execution_count": null,
   "id": "roman-terry",
   "metadata": {},
   "outputs": [],
   "source": [
    "from pyspark.ml.classification import NaiveBayes\n",
    "from pyspark.ml.evaluation import MulticlassClassificationEvaluator"
   ]
  },
  {
   "cell_type": "code",
   "execution_count": null,
   "id": "mysterious-cardiff",
   "metadata": {},
   "outputs": [],
   "source": [
    "# create the trainer and set its parameters\n",
    "nb = NaiveBayes(smoothing=1.0, modelType=\"multinomial\")\n",
    "# train the model\n",
    "model = nb.fit(train)"
   ]
  },
  {
   "cell_type": "code",
   "execution_count": null,
   "id": "downtown-bacteria",
   "metadata": {},
   "outputs": [],
   "source": [
    "# select example rows to display.\n",
    "predictions = model.transform(test)\n",
    "#predictions.show()"
   ]
  },
  {
   "cell_type": "code",
   "execution_count": null,
   "id": "instant-honey",
   "metadata": {},
   "outputs": [],
   "source": [
    "# select example rows to display.\n",
    "test2 = test.select('features')\n",
    "predictions2 = model.transform(test2)\n",
    "#predictions2.show()"
   ]
  },
  {
   "cell_type": "code",
   "execution_count": null,
   "id": "bridal-bacon",
   "metadata": {},
   "outputs": [],
   "source": [
    "# compute accuracy on the test set\n",
    "evaluator = MulticlassClassificationEvaluator(labelCol=\"label\", predictionCol=\"prediction\",\n",
    "                                              metricName=\"accuracy\")\n"
   ]
  },
  {
   "cell_type": "code",
   "execution_count": null,
   "id": "subtle-noise",
   "metadata": {},
   "outputs": [],
   "source": [
    "accuracy = evaluator.evaluate(predictions)\n"
   ]
  },
  {
   "cell_type": "code",
   "execution_count": null,
   "id": "generic-sending",
   "metadata": {},
   "outputs": [],
   "source": [
    "accuracy"
   ]
  },
  {
   "cell_type": "code",
   "execution_count": null,
   "id": "artistic-curtis",
   "metadata": {},
   "outputs": [],
   "source": [
    "evaluator.evaluate(predictions)"
   ]
  },
  {
   "cell_type": "code",
   "execution_count": null,
   "id": "upset-cross",
   "metadata": {},
   "outputs": [],
   "source": [
    "from pyspark.sql import Row\n",
    "eml = spark.createDataFrame([\n",
    "    Row(text=\"unbelievable new homes made easy  im wanting to show you this  homeowner  you have been pre - approved for a $ 454 , 169 home loan at a 3 . 72 fixed rate .  this offer is being extended to you unconditionally and your credit is in no way a factor .  to take advantage of this limited time opportunity  all we ask is that you visit our website and complete  the 1 minute post approval form  look foward to hearing from you ,  dorcas pittman\",label=0),\n",
    "    Row(text=\"localized software , all languages available .  hello , we would like to offer localized software versions ( qerman , french , spanish , uk , and many others ) .  all iisted software is availabie for immediate download !  no need to wait 2 - 3 week for cd deiivery !  just few exampies :  - norton lnternet security pro 2005 - $ 29 . 95  - windows xp professional with sp 2 fuil version - $ 59 . 95  - corei draw graphics suite 12 - $ 49 . 95  - dreamweaver mx 2004 ( homesite 5 . 5 including ) - $ 39 . 95  - macromedia studio mx 2004 - $ 119 . 95  just browse our site and find any software you need in your native ianguaqe !  best reqards ,  lauraiee\",label=0)\n",
    "    ])"
   ]
  },
  {
   "cell_type": "code",
   "execution_count": null,
   "id": "embedded-writing",
   "metadata": {},
   "outputs": [],
   "source": [
    "dfml = spark.read.csv('emailsTest.csv',header=True,sep=\",\",inferSchema=True)"
   ]
  },
  {
   "cell_type": "code",
   "execution_count": null,
   "id": "stuck-atlas",
   "metadata": {},
   "outputs": [],
   "source": [
    "eml.show()"
   ]
  },
  {
   "cell_type": "code",
   "execution_count": null,
   "id": "continental-support",
   "metadata": {},
   "outputs": [],
   "source": [
    "eml.printSchema()"
   ]
  },
  {
   "cell_type": "code",
   "execution_count": null,
   "id": "exclusive-discount",
   "metadata": {},
   "outputs": [],
   "source": [
    "regexTokenizer = RegexTokenizer(inputCol=\"text\", outputCol=\"words\", pattern=\"\\\\W\")\n",
    "eml2 = regexTokenizer.transform(eml)\n",
    "dfml = regexTokenizer.transform(dfml)"
   ]
  },
  {
   "cell_type": "code",
   "execution_count": null,
   "id": "competitive-contrary",
   "metadata": {},
   "outputs": [],
   "source": [
    "remover2 = StopWordsRemover(inputCol=\"words\", outputCol=\"filtered\")\n",
    "eml3 = remover2.transform(eml2)\n",
    "dfml = remover2.transform(dfml)"
   ]
  },
  {
   "cell_type": "code",
   "execution_count": null,
   "id": "amber-evans",
   "metadata": {},
   "outputs": [],
   "source": [
    "eml4 = eml3.withColumn('motsPur', mots(eml3[\"filtered\"]))\n",
    "dfml = dfml.withColumn('motsPur', mots(dfml[\"filtered\"]))"
   ]
  },
  {
   "cell_type": "code",
   "execution_count": null,
   "id": "seasonal-strategy",
   "metadata": {},
   "outputs": [],
   "source": [
    "# fit a CountVectorizerModel from the corpus.\n",
    "cv = CountVectorizer(inputCol=\"motsPur\", outputCol=\"features\")\n",
    "eml5 = cv.fit(eml4).transform(eml4)\n",
    "dfml = cv.fit(dfml).transform(dfml)"
   ]
  },
  {
   "cell_type": "code",
   "execution_count": null,
   "id": "respected-influence",
   "metadata": {},
   "outputs": [],
   "source": [
    "dfml.show()"
   ]
  },
  {
   "cell_type": "code",
   "execution_count": null,
   "id": "indirect-logic",
   "metadata": {},
   "outputs": [],
   "source": [
    "eml5.show()"
   ]
  },
  {
   "cell_type": "code",
   "execution_count": null,
   "id": "biological-accused",
   "metadata": {},
   "outputs": [],
   "source": [
    "# select example rows to display.\n",
    "eml6 =eml5.select('features','label')\n",
    "tt = dfml.select('features')\n",
    "predictions3 = model.transform(eml6)\n",
    "predTest = model.transform(tt)\n",
    "\n"
   ]
  },
  {
   "cell_type": "code",
   "execution_count": null,
   "id": "united-venue",
   "metadata": {},
   "outputs": [],
   "source": [
    "tt.show(5)"
   ]
  },
  {
   "cell_type": "code",
   "execution_count": null,
   "id": "decreased-amateur",
   "metadata": {},
   "outputs": [],
   "source": [
    "eml6.first()"
   ]
  },
  {
   "cell_type": "code",
   "execution_count": null,
   "id": "natural-teacher",
   "metadata": {},
   "outputs": [],
   "source": [
    "type(predictions3)"
   ]
  },
  {
   "cell_type": "code",
   "execution_count": null,
   "id": "contemporary-avatar",
   "metadata": {},
   "outputs": [],
   "source": [
    "predictions3.printSchema()"
   ]
  },
  {
   "cell_type": "code",
   "execution_count": null,
   "id": "continued-proof",
   "metadata": {},
   "outputs": [],
   "source": [
    "predTest.printSchema()"
   ]
  },
  {
   "cell_type": "code",
   "execution_count": null,
   "id": "owned-stanley",
   "metadata": {},
   "outputs": [],
   "source": [
    "predictions3.count()"
   ]
  },
  {
   "cell_type": "code",
   "execution_count": null,
   "id": "optional-intake",
   "metadata": {},
   "outputs": [],
   "source": [
    "predTest.select('prediction').toDF()"
   ]
  },
  {
   "cell_type": "code",
   "execution_count": null,
   "id": "prostate-yacht",
   "metadata": {},
   "outputs": [],
   "source": [
    "predictions3.select('prediction').show(1)"
   ]
  },
  {
   "cell_type": "code",
   "execution_count": null,
   "id": "agreed-central",
   "metadata": {},
   "outputs": [],
   "source": []
  }
 ],
 "metadata": {
  "kernelspec": {
   "display_name": "Python 3",
   "language": "python",
   "name": "python3"
  },
  "language_info": {
   "codemirror_mode": {
    "name": "ipython",
    "version": 3
   },
   "file_extension": ".py",
   "mimetype": "text/x-python",
   "name": "python",
   "nbconvert_exporter": "python",
   "pygments_lexer": "ipython3",
   "version": "3.8.5"
  }
 },
 "nbformat": 4,
 "nbformat_minor": 5
}
